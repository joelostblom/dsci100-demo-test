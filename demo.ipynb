{
 "cells": [
  {
   "cell_type": "markdown",
   "id": "072b1607-73c2-472e-bf74-d8f526c238b7",
   "metadata": {},
   "source": [
    "This is a markdown file for my notebook"
   ]
  },
  {
   "cell_type": "code",
   "execution_count": 1,
   "id": "ea65f3f0-e2aa-4b07-a979-1a67b724f3f8",
   "metadata": {
    "tags": []
   },
   "outputs": [
    {
     "data": {
      "text/plain": [
       "9"
      ]
     },
     "execution_count": 1,
     "metadata": {},
     "output_type": "execute_result"
    }
   ],
   "source": [
    "4 + 5"
   ]
  },
  {
   "cell_type": "code",
   "execution_count": null,
   "id": "5063b7ba-c55f-4f78-88c1-a62431bfa281",
   "metadata": {},
   "outputs": [],
   "source": []
  }
 ],
 "metadata": {
  "kernelspec": {
   "display_name": "Python 3 (ipykernel)",
   "language": "python",
   "name": "python3"
  },
  "language_info": {
   "codemirror_mode": {
    "name": "ipython",
    "version": 3
   },
   "file_extension": ".py",
   "mimetype": "text/x-python",
   "name": "python",
   "nbconvert_exporter": "python",
   "pygments_lexer": "ipython3",
   "version": "3.10.8"
  }
 },
 "nbformat": 4,
 "nbformat_minor": 5
}
